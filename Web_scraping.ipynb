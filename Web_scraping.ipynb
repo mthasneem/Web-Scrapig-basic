{
  "cells": [
    {
      "cell_type": "code",
      "execution_count": 2,
      "metadata": {
        "id": "a-fE8VT-nUQK"
      },
      "outputs": [],
      "source": [
        "#import libraries \n",
        "from bs4 import BeautifulSoup\n",
        "import requests\n",
        "import time\n",
        "import datetime\n",
        "\n",
        "import smtplib\n"
      ]
    },
    {
      "cell_type": "code",
      "execution_count": 3,
      "metadata": {
        "colab": {
          "base_uri": "https://localhost:8080/"
        },
        "id": "qUEoLxKqUpqm",
        "outputId": "1f840750-439f-464f-a39c-3b15bbbe542c"
      },
      "outputs": [
        {
          "name": "stdout",
          "output_type": "stream",
          "text": [
            "\n",
            "                   Funny Got Data MIS Data Systems Business Analyst T-Shirt\n",
            "                  \n",
            "\n",
            "                    15 ratings\n",
            "                   \n"
          ]
        }
      ],
      "source": [
        "# Connect to Website and pull in data\n",
        "\n",
        "URL = 'https://www.amazon.com/Funny-Data-Systems-Business-Analyst/dp/B07FNW9FGJ/ref=sr_1_3?dchild=1&keywords=data%2Banalyst%2Btshirt&qid=1626655184&sr=8-3&customId=B0752XJYNL&th=1'\n",
        "\n",
        "headers = {\"User-Agent\": \"Mozilla/5.0 (Windows NT 10.0; Win64; x64) AppleWebKit/537.36 (KHTML, like Gecko) Chrome/78.0.3904.108 Safari/537.36\", \"Accept-Encoding\":\"gzip, deflate\", \"Accept\":\"text/html,application/xhtml+xml,application/xml;q=0.9,*/*;q=0.8\", \"DNT\":\"1\",\"Connection\":\"close\", \"Upgrade-Insecure-Requests\":\"1\"}\n",
        "\n",
        "page = requests.get(URL, headers=headers)\n",
        "\n",
        "soup1 = BeautifulSoup(page.content, 'html.parser')\n",
        "\n",
        "soup2 = BeautifulSoup(soup1.prettify(), 'html.parser')\n",
        "\n",
        "title = soup2.find(id='productTitle').get_text()\n",
        "\n",
        "rating = soup2.find(id='acrCustomerReviewText').get_text()\n",
        "\n",
        "\n",
        "print(title)\n",
        "print(rating)"
      ]
    },
    {
      "cell_type": "code",
      "execution_count": 4,
      "metadata": {
        "colab": {
          "base_uri": "https://localhost:8080/"
        },
        "id": "-taRuoslcTiE",
        "outputId": "fa8fc35a-329d-4210-92e1-5c3771337683"
      },
      "outputs": [
        {
          "name": "stdout",
          "output_type": "stream",
          "text": [
            "Funny Got Data MIS Data Systems Business Analyst T-Shirt\n",
            "5 ratings\n"
          ]
        }
      ],
      "source": [
        "# Clean up the data a little bit\n",
        "\n",
        "rating = rating.strip()[1:]\n",
        "title = title.strip()\n",
        "\n",
        "print(title)\n",
        "print(rating)"
      ]
    },
    {
      "cell_type": "code",
      "execution_count": 5,
      "metadata": {
        "colab": {
          "base_uri": "https://localhost:8080/"
        },
        "id": "IuSkdWhjc2gP",
        "outputId": "65075fd9-a5b5-4c04-8806-ef903d3e957a"
      },
      "outputs": [
        {
          "name": "stdout",
          "output_type": "stream",
          "text": [
            "2022-08-07\n"
          ]
        }
      ],
      "source": [
        "# Create a Timestamp for your output to track when data was collected\n",
        "\n",
        "import datetime\n",
        "\n",
        "today = datetime.date.today()\n",
        "\n",
        "print(today)"
      ]
    },
    {
      "cell_type": "code",
      "execution_count": 6,
      "metadata": {
        "id": "ntqRaX9Ec4Xc"
      },
      "outputs": [],
      "source": [
        "# Create CSV and write headers and data into the file\n",
        "\n",
        "import csv \n",
        "\n",
        "header = ['Title', 'Ratting', 'Date']\n",
        "data = [title, rating, today]\n",
        "\n",
        "\n",
        "with open('AmazonWebScraperDataset.csv', 'w', newline='', encoding='UTF8') as f:\n",
        "    writer = csv.writer(f)\n",
        "    writer.writerow(header)\n",
        "    writer.writerow(data)"
      ]
    },
    {
      "cell_type": "code",
      "execution_count": 9,
      "metadata": {
        "colab": {
          "base_uri": "https://localhost:8080/",
          "height": 451
        },
        "id": "etoUtRz9dTX1",
        "outputId": "8a77e0ec-226f-48bd-cc86-18c465ed09c4"
      },
      "outputs": [
        {
          "name": "stdout",
          "output_type": "stream",
          "text": [
            "                                               Title    Ratting        Date\n",
            "0  Funny Got Data MIS Data Systems Business Analy...  5 ratings  2022-08-07\n",
            "1  Funny Got Data MIS Data Systems Business Analy...  5 ratings  2022-08-07\n"
          ]
        }
      ],
      "source": [
        "import pandas as pd\n",
        "\n",
        "df = pd.read_csv(r'D:\\tutorials\\Data Analytics\\Projects\\web scraping\\AmazonWebScraperDataset.csv')\n",
        "\n",
        "print(df)"
      ]
    },
    {
      "cell_type": "code",
      "execution_count": 8,
      "metadata": {},
      "outputs": [],
      "source": [
        "#Now we are appending data to the csv\n",
        "\n",
        "with open('AmazonWebScraperDataset.csv', 'a+', newline='', encoding='UTF8') as f:\n",
        "    writer = csv.writer(f)\n",
        "    writer.writerow(data)"
      ]
    },
    {
      "cell_type": "code",
      "execution_count": 10,
      "metadata": {},
      "outputs": [],
      "source": [
        "def check_price():\n",
        "    URL = 'https://www.amazon.com/Funny-Data-Systems-Business-Analyst/dp/B07FNW9FGJ/ref=sr_1_3?dchild=1&keywords=data%2Banalyst%2Btshirt&qid=1626655184&sr=8-3&customId=B0752XJYNL&th=1'\n",
        "\n",
        "    headers = {\"User-Agent\": \"Mozilla/5.0 (Windows NT 10.0; Win64; x64) AppleWebKit/537.36 (KHTML, like Gecko) Chrome/78.0.3904.108 Safari/537.36\", \"Accept-Encoding\":\"gzip, deflate\", \"Accept\":\"text/html,application/xhtml+xml,application/xml;q=0.9,*/*;q=0.8\", \"DNT\":\"1\",\"Connection\":\"close\", \"Upgrade-Insecure-Requests\":\"1\"}\n",
        "\n",
        "    page = requests.get(URL, headers=headers)\n",
        "    soup1 = BeautifulSoup(page.content, 'html.parser')\n",
        "    soup2 = BeautifulSoup(soup1.prettify(), 'html.parser')\n",
        "    title = soup2.find(id='productTitle').get_text()\n",
        "    rating = soup2.find(id='acrCustomerReviewText').get_text()\n",
        "\n",
        "    rating = rating.strip()[1:]\n",
        "    title = title.strip()\n",
        "\n",
        "    with open('AmazonWebScraperDataset.csv', 'a+', newline='', encoding='UTF8') as f:\n",
        "        writer = csv.writer(f)\n",
        "        writer.writerow(data)"
      ]
    },
    {
      "cell_type": "code",
      "execution_count": 13,
      "metadata": {},
      "outputs": [],
      "source": [
        "while(True):\n",
        "    check_price()\n",
        "    time.sleep(86400) #every day check"
      ]
    },
    {
      "cell_type": "code",
      "execution_count": 12,
      "metadata": {},
      "outputs": [
        {
          "name": "stdout",
          "output_type": "stream",
          "text": [
            "                                               Title    Ratting        Date\n",
            "0  Funny Got Data MIS Data Systems Business Analy...  5 ratings  2022-08-07\n",
            "1  Funny Got Data MIS Data Systems Business Analy...  5 ratings  2022-08-07\n",
            "2  Funny Got Data MIS Data Systems Business Analy...  5 ratings  2022-08-07\n",
            "3  Funny Got Data MIS Data Systems Business Analy...  5 ratings  2022-08-07\n",
            "4  Funny Got Data MIS Data Systems Business Analy...  5 ratings  2022-08-07\n",
            "5  Funny Got Data MIS Data Systems Business Analy...  5 ratings  2022-08-07\n",
            "6  Funny Got Data MIS Data Systems Business Analy...  5 ratings  2022-08-07\n"
          ]
        }
      ],
      "source": [
        "df = pd.read_csv(r'D:\\tutorials\\Data Analytics\\Projects\\web scraping\\AmazonWebScraperDataset.csv')\n",
        "\n",
        "print(df)"
      ]
    },
    {
      "cell_type": "code",
      "execution_count": null,
      "metadata": {},
      "outputs": [],
      "source": [
        "def send_mail():\n",
        "    server = smtplib.SMTP_SSL('smtp.gmail.com',465)\n",
        "    server.ehlo()\n",
        "    #server.starttls()\n",
        "    server.ehlo()\n",
        "    server.login('test@gmail.com','xxxxxxxxxxxxxx')\n",
        "    \n",
        "    subject = \"The Shirt you want is below $15! Now is your chance to buy!\"\n",
        "    body = \"Alex, This is the moment we have been waiting for. Now is your chance to pick up the shirt of your dreams. Don't mess it up! Link here: https://www.amazon.com/Funny-Data-Systems-Business-Analyst/dp/B07FNW9FGJ/ref=sr_1_3?dchild=1&keywords=data+analyst+tshirt&qid=1626655184&sr=8-3\"\n",
        "   \n",
        "    msg = f\"Subject: {subject}\\n\\n{body}\"\n",
        "    \n",
        "    server.sendmail(\n",
        "        'AlexTheAnalyst95@gmail.com',\n",
        "        msg\n",
        "     \n",
        "    )"
      ]
    }
  ],
  "metadata": {
    "colab": {
      "collapsed_sections": [],
      "name": "Web_scraping.ipynb",
      "provenance": []
    },
    "kernelspec": {
      "display_name": "Python 3.9.5 64-bit",
      "language": "python",
      "name": "python3"
    },
    "language_info": {
      "codemirror_mode": {
        "name": "ipython",
        "version": 3
      },
      "file_extension": ".py",
      "mimetype": "text/x-python",
      "name": "python",
      "nbconvert_exporter": "python",
      "pygments_lexer": "ipython3",
      "version": "3.9.5"
    },
    "vscode": {
      "interpreter": {
        "hash": "11938c6bc6919ae2720b4d5011047913343b08a43b18698fd82dedb0d4417594"
      }
    }
  },
  "nbformat": 4,
  "nbformat_minor": 0
}
